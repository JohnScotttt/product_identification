{
 "cells": [
  {
   "cell_type": "markdown",
   "metadata": {},
   "source": [
    "# 自动零售柜商品识别\n",
    "\n",
    "## 【赛题任务】\n",
    "\n",
    "针对自动零售柜的应用场景，给定一个零售商品的训练集，训练一个模型，对测试集中给定的商品的照片，要求识别出它的类别ID。以识别准确率作为评价指标，准确率定义为正确识别的次数除以识别总次数。零售柜商品采集图像如下图所示，流程是先检测每个商品，然后判断它的类别ID。本次比赛不包含商品检测部分，仅需要针对一个已经检测到的商品，识别它的ID。\n",
    "\n",
    "## 【操作流程】\n",
    "\n",
    "数据集目录如下：\n",
    "\n",
    "![tree.png](../imagelib/tree.png)\n",
    "\n",
    "为方便数据的调用，我们先对数据进行预处理，将其目录保存至txt文件。\n",
    "\n",
    "考虑到中文目录和文件对读取和训练都不利，我们考虑先将中文标签映射成数字标签，并保存映射表。然后依据映射表将文件和文件夹重命名，最后将重命名好的文件的目录和标签保存成txt训练文件，其格式为：\n",
    "\n",
    "图像目录0   图像标签0\n",
    "\n",
    "图像目录1   图像标签1\n",
    "\n",
    "图像目录2   图像标签2\n",
    "\n",
    "……"
   ]
  },
  {
   "cell_type": "code",
   "execution_count": null,
   "metadata": {},
   "outputs": [],
   "source": [
    "import os\n",
    "import shutil\n",
    "from tqdm import tqdm\n",
    "import json\n",
    "\n",
    "data_root_path = r\"D:/repos/product_identification/data_before\"\n",
    "new_data_root_path = r\"D:/repos/product_identification/data\"\n",
    "categories = os.listdir(data_root_path)\n",
    "index = {}\n",
    "if not os.path.exists(new_data_root_path):\n",
    "    os.mkdir(new_data_root_path)\n",
    "if not os.path.exists(\"txt_data\"):\n",
    "    os.mkdir(\"txt_data\")\n",
    "try:\n",
    "    total_txt = open('txt_data/total.txt', 'w', encoding=\"utf-8\")\n",
    "    for i, category in enumerate(tqdm(categories)):\n",
    "        if not os.path.exists(os.path.join(new_data_root_path, str(i))):\n",
    "            os.mkdir(os.path.join(new_data_root_path, str(i)))\n",
    "        index[i] = category\n",
    "        category_path = os.path.join(data_root_path, category)\n",
    "        new_category_path = os.path.join(new_data_root_path, str(i))\n",
    "        files = os.listdir(category_path)\n",
    "        for j, file in enumerate(tqdm(files, leave=False)):\n",
    "            file_path = os.path.join(category_path, file)\n",
    "            new_file_path = os.path.join(new_category_path, str(i) + '_' + str(j) + '.jpg')\n",
    "            shutil.copyfile(file_path, new_file_path)\n",
    "            total_txt.write(new_file_path + '\\t' + str(i) + '\\n')\n",
    "finally:\n",
    "    total_txt.close()\n",
    "\n",
    "with open('txt_data/index.json', 'w', encoding=\"utf-8\") as f:\n",
    "    json.dump(index, f)"
   ]
  },
  {
   "cell_type": "markdown",
   "metadata": {},
   "source": [
    "将预处理好的数据按八二开划分成训练集和验证集，分别保存成两个文件train.txt和val.txt。"
   ]
  },
  {
   "cell_type": "code",
   "execution_count": null,
   "metadata": {},
   "outputs": [],
   "source": [
    "from sklearn.model_selection import train_test_split\n",
    "\n",
    "with open(\"txt_data/total.txt\", \"r\", encoding=\"utf-8\") as f:\n",
    "    lines = f.readlines()\n",
    "train, val = train_test_split(lines, test_size=0.2, random_state=42)\n",
    "try:\n",
    "    f_train = open(\"txt_data/train.txt\", \"w\", encoding=\"utf-8\")\n",
    "    f_val = open(\"txt_data/val.txt\", \"w\", encoding=\"utf-8\")\n",
    "    f_train.writelines(train)\n",
    "    f_val.writelines(val)\n",
    "finally:\n",
    "    f_train.close()\n",
    "    f_val.close()"
   ]
  },
  {
   "cell_type": "markdown",
   "metadata": {},
   "source": [
    "定义dataloader类\n",
    "\n",
    "我们注意到数据集图像大小不一致，所以在加载图像后，进行resize处理。"
   ]
  },
  {
   "cell_type": "code",
   "execution_count": null,
   "metadata": {},
   "outputs": [],
   "source": [
    "from torch.utils.data import Dataset\n",
    "import cv2\n",
    "\n",
    "class MyDataset(Dataset):\n",
    "    def __init__(self, txt_path, transform=None):\n",
    "        with open(txt_path, \"r\", encoding=\"utf-8\") as f:\n",
    "            lines = f.readlines()\n",
    "        self.imgs = []\n",
    "        self.labels = []\n",
    "        for line in lines:\n",
    "            line = line.strip(\"\\n\").rstrip().split(\"\\t\")\n",
    "            self.imgs.append(line[0])\n",
    "            self.labels.append(int(line[1]))\n",
    "        self.transform = transform\n",
    "\n",
    "    def __getitem__(self, index):\n",
    "        img_path = self.imgs[index]\n",
    "        label = self.labels[index]\n",
    "        img = cv2.resize(cv2.imread(img_path), (96, 192))\n",
    "        if self.transform is not None:\n",
    "            img = self.transform(img)\n",
    "        return img, label\n",
    "\n",
    "    def __len__(self):\n",
    "        return len(self.imgs)"
   ]
  },
  {
   "cell_type": "markdown",
   "metadata": {},
   "source": [
    "定义神经网络模型\n",
    "\n",
    "你可以自己编写一些深度学习神经网络，让模型更好的适应数据集，这里我们使用pytorch预训练好的resnet34模型，其拥有更少的网络层数和不逊色的性能。"
   ]
  },
  {
   "cell_type": "code",
   "execution_count": null,
   "metadata": {},
   "outputs": [],
   "source": [
    "from torchvision import models\n",
    "\n",
    "ResNet = models.resnet34(num_classes=101)"
   ]
  },
  {
   "cell_type": "markdown",
   "metadata": {},
   "source": [
    "训练模型"
   ]
  },
  {
   "cell_type": "code",
   "execution_count": null,
   "metadata": {},
   "outputs": [],
   "source": [
    "import os\n",
    "import torch\n",
    "from torch import nn\n",
    "from torchvision import transforms\n",
    "from torch.utils.data import DataLoader\n",
    "\n",
    "epochs = 200\n",
    "is_cuda = True\n",
    "best_acc = 0\n",
    "batch_size = 32\n",
    "if is_cuda:\n",
    "    device = torch.device(\"cuda\")\n",
    "if not os.path.exists(\"output\"):\n",
    "    os.makedirs(\"output\")\n",
    "\n",
    "train_dataset = MyDataset(\"txt_data/train.txt\", transform=transforms.ToTensor())\n",
    "val_dataset = MyDataset(\"txt_data/val.txt\", transform=transforms.ToTensor())\n",
    "train_loader = DataLoader(train_dataset, batch_size=batch_size, shuffle=True)\n",
    "val_loader = DataLoader(val_dataset, batch_size=batch_size, shuffle=True)\n",
    "\n",
    "optimizer = torch.optim.AdamW(ResNet.parameters(), lr=0.01, weight_decay=1e-3)\n",
    "scheduler = torch.optim.lr_scheduler.MultiStepLR(optimizer, [100, 120, 150], 0.1)\n",
    "loss_func = nn.CrossEntropyLoss()\n",
    "\n",
    "ResNet.to(device)\n",
    "\n",
    "for epoch in range(epochs):\n",
    "    # train\n",
    "    ResNet.train()\n",
    "    for i, (img, label) in enumerate(train_loader):\n",
    "        img = img.to(device)\n",
    "        label = label.to(device)\n",
    "        output = ResNet(img)\n",
    "        loss = loss_func(output, label)\n",
    "        optimizer.zero_grad()\n",
    "        loss.backward()\n",
    "        optimizer.step()\n",
    "    scheduler.step()\n",
    "    \n",
    "    # val\n",
    "    ResNet.eval()\n",
    "    with torch.no_grad():\n",
    "        total = 0\n",
    "        correct = 0\n",
    "        for i, (img, label) in enumerate(val_loader):\n",
    "            img = img.to(device)\n",
    "            label = label.to(device)\n",
    "            output = ResNet(img)\n",
    "            _, predicted = torch.max(output.data, 1)\n",
    "            total += label.size(0)\n",
    "            correct += (predicted == label).sum().item()\n",
    "        print(f\"Epoch: {epoch}, Loss: {loss.item()}, Accuracy: {correct / total}\")\n",
    "        if correct / total > best_acc:\n",
    "            best_acc = correct / total\n",
    "            torch.save(ResNet.state_dict(), \"output/best_model_\" + f\"{best_acc:.4f}\" + \".pt\")"
   ]
  }
 ],
 "metadata": {
  "kernelspec": {
   "display_name": "py39",
   "language": "python",
   "name": "python3"
  },
  "language_info": {
   "codemirror_mode": {
    "name": "ipython",
    "version": 3
   },
   "file_extension": ".py",
   "mimetype": "text/x-python",
   "name": "python",
   "nbconvert_exporter": "python",
   "pygments_lexer": "ipython3",
   "version": "3.9.16"
  }
 },
 "nbformat": 4,
 "nbformat_minor": 2
}
